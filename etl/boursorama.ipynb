{
 "cells": [
  {
   "cell_type": "markdown",
   "metadata": {},
   "source": [
    "## **1. Table `markets`**  \n",
    "Cette table représente les marchés financiers.  \n",
    "\n",
    "| **Nom du champ** | **Type** | **Description** |\n",
    "|-----------------|---------|----------------|\n",
    "| `id` | `SMALLINT PRIMARY KEY DEFAULT nextval('market_id_seq')` | Identifiant unique du marché (clé primaire). Il est auto-incrémenté avec la séquence `market_id_seq`. |\n",
    "| `name` | `VARCHAR` | Nom du marché (ex. : \"Euronext Paris\", \"NYSE\"). |\n",
    "| `alias` | `VARCHAR` | Alias du marché, une version abrégée ou alternative du nom. |\n",
    "| `boursorama` | `VARCHAR` | Code du marché utilisé sur **Boursorama** (une plateforme d’informations financières). |\n",
    "| `sws` | `VARCHAR` | Probablement un code interne ou une référence à une autre plateforme. |\n",
    "| `euronext` | `VARCHAR` | Code du marché utilisé sur **Euronext** (une des principales bourses européennes). |\n",
    "\n",
    "---\n",
    "\n",
    "## **2. Table `companies`**  \n",
    "Cette table contient les informations des entreprises cotées en bourse.  \n",
    "\n",
    "| **Nom du champ** | **Type** | **Description** |\n",
    "|-----------------|---------|----------------|\n",
    "| `id` | `SMALLINT PRIMARY KEY DEFAULT nextval('company_id_seq')` | Identifiant unique de l’entreprise (clé primaire). Il est auto-incrémenté avec la séquence `company_id_seq`. |\n",
    "| `name` | `VARCHAR` | Nom de l’entreprise (ex. : \"TotalEnergies\", \"Apple Inc.\"). |\n",
    "| `mid` | `SMALLINT DEFAULT 0` | Identifiant du marché (`id` de la table `markets`) où l’entreprise est cotée. Défaut : `0`. |\n",
    "| `symbol` | `VARCHAR` | Symbole boursier de l’entreprise (ex. : \"AAPL\" pour Apple, \"BNP\" pour BNP Paribas). |\n",
    "| `isin` | `CHAR(12)` | Code **ISIN** (International Securities Identification Number), un identifiant unique de 12 caractères pour chaque titre financier (ex. : \"FR0000120271\" pour TotalEnergies). |\n",
    "| `boursorama` | `VARCHAR` | Code de l’entreprise sur **Boursorama**. |\n",
    "| `euronext` | `VARCHAR` | Code de l’entreprise sur **Euronext**. |\n",
    "| `pea` | `BOOLEAN DEFAULT FALSE` | Indique si l’action est éligible au **PEA** (Plan d'Épargne en Actions). Valeurs possibles : `TRUE` (oui) ou `FALSE` (non). |\n",
    "| `sector1` | `VARCHAR` | Secteur principal de l’entreprise (ex. : \"Technologie\", \"Finance\"). |\n",
    "| `sector2` | `VARCHAR` | Sous-secteur (ex. : \"Banques\", \"Énergies renouvelables\"). |\n",
    "| `sector3` | `VARCHAR` | Niveau plus détaillé du secteur (ex. : \"Banque d’investissement\", \"Pétrole & Gaz\"). |\n",
    "\n",
    "---\n",
    "\n",
    "## **3. Table `stocks`**  \n",
    "Cette table enregistre l’historique des prix et des volumes des actions à des moments précis.  \n",
    "\n",
    "| **Nom du champ** | **Type** | **Description** |\n",
    "|-----------------|---------|----------------|\n",
    "| `date` | `TIMESTAMPTZ` | Date et heure précises de l’enregistrement, avec fuseau horaire. |\n",
    "| `cid` | `SMALLINT` | Identifiant de l’entreprise (`id` de la table `companies`). |\n",
    "| `value` | `FLOAT4` | Valeur de l’action à ce moment précis. |\n",
    "| `volume` | `FLOAT4` | Volume d’actions échangées à ce moment précis. |\n",
    "\n",
    "🔹 **Cette table est utile pour stocker des données intrajournalières (tick par tick, minute par minute, etc.).**  \n",
    "\n",
    "---\n",
    "\n",
    "## **4. Table `daystocks`**  \n",
    "Cette table regroupe les données agrégées des actions pour une journée complète.  \n",
    "\n",
    "| **Nom du champ** | **Type** | **Description** |\n",
    "|-----------------|---------|----------------|\n",
    "| `date` | `TIMESTAMPTZ` | Date du jour boursier. |\n",
    "| `cid` | `SMALLINT` | Identifiant de l’entreprise (`id` de la table `companies`). |\n",
    "| `open` | `FLOAT4` | Prix d’ouverture du jour. |\n",
    "| `close` | `FLOAT4` | Prix de clôture du jour. |\n",
    "| `high` | `FLOAT4` | Prix le plus haut atteint durant la journée. |\n",
    "| `low` | `FLOAT4` | Prix le plus bas atteint durant la journée. |\n",
    "| `volume` | `FLOAT4` | Volume total des échanges de la journée. |\n",
    "| `mean` | `FLOAT4` | Prix moyen de l’action sur la journée. |\n",
    "| `std` | `FLOAT4` | Écart type des prix sur la journée (mesure de la volatilité). |\n",
    "\n",
    "🔹 **Cette table est utile pour l’analyse des tendances journalières et la volatilité des actions.**  \n",
    "\n",
    "---\n",
    "\n",
    "## **Résumé général**  \n",
    "- **markets** → Contient la liste des marchés financiers.  \n",
    "- **companies** → Liste les entreprises cotées en bourse et leurs infos.  \n",
    "- **stocks** → Stocke les prix et volumes des actions à des instants précis.  \n",
    "- **daystocks** → Agrège les données boursières par jour (ouverture, clôture, volatilité, etc.).  \n"
   ]
  },
  {
   "cell_type": "code",
   "execution_count": 1,
   "metadata": {},
   "outputs": [],
   "source": [
    "import pandas as pd\n",
    "import numpy as np\n",
    "import sklearn\n",
    "import glob\n",
    "import time\n",
    "import re\n",
    "import timescaledb_model as tsdb\n",
    "import os\n",
    "\n",
    "HOME = \"/home/dimitri/epita/big_data/project/bourse/data/\""
   ]
  },
  {
   "cell_type": "code",
   "execution_count": 2,
   "metadata": {},
   "outputs": [],
   "source": [
    "import datetime\n",
    "\n",
    "\n",
    "def extract_date_hours(path):\n",
    "    file_name = path.split('/')[-1]  # Extract the file name\n",
    "    date_str, time_str = file_name.split(' ')[1:3]  # Extract date and time parts\n",
    "    time_str = \".\".join(time_str.split('.')[0:2])\n",
    "    date_time_str = f\"{date_str} {time_str}\"\n",
    "    date_time = datetime.datetime.strptime(date_time_str, '%Y-%m-%d %H:%M:%S.%f')\n",
    "    return date_time"
   ]
  },
  {
   "cell_type": "code",
   "execution_count": 3,
   "metadata": {},
   "outputs": [],
   "source": [
    "def merge_df(file_path, df):\n",
    "    df_tmp = pd.read_pickle(\n",
    "    file_path,\n",
    "    )\n",
    "    # df.reset_index(drop=True, inplace=True)\n",
    "    df_tmp['date'] = extract_date_hours(file_path)\n",
    "    return pd.concat([df, df_tmp])    "
   ]
  },
  {
   "cell_type": "code",
   "execution_count": 20,
   "metadata": {},
   "outputs": [],
   "source": [
    "df = pd.DataFrame()\n",
    "dir = os.listdir(HOME + \"boursorama\")\n",
    "i = 0\n",
    "for dir_date in dir :\n",
    "    list_file_path = os.listdir(HOME + \"boursorama/\" + dir_date)\n",
    "    for file_path in list_file_path :\n",
    "        df = merge_df(HOME + \"boursorama/\" + dir_date + \"/\" + file_path, df)\n",
    "        if (i == 100) :\n",
    "            break\n",
    "        i+=1\n",
    "    break"
   ]
  },
  {
   "cell_type": "code",
   "execution_count": 16,
   "metadata": {},
   "outputs": [
    {
     "data": {
      "text/html": [
       "<div>\n",
       "<style scoped>\n",
       "    .dataframe tbody tr th:only-of-type {\n",
       "        vertical-align: middle;\n",
       "    }\n",
       "\n",
       "    .dataframe tbody tr th {\n",
       "        vertical-align: top;\n",
       "    }\n",
       "\n",
       "    .dataframe thead th {\n",
       "        text-align: right;\n",
       "    }\n",
       "</style>\n",
       "<table border=\"1\" class=\"dataframe\">\n",
       "  <thead>\n",
       "    <tr style=\"text-align: right;\">\n",
       "      <th></th>\n",
       "      <th>last</th>\n",
       "      <th>volume</th>\n",
       "      <th>symbol</th>\n",
       "      <th>name</th>\n",
       "      <th>date</th>\n",
       "    </tr>\n",
       "    <tr>\n",
       "      <th>symbol</th>\n",
       "      <th></th>\n",
       "      <th></th>\n",
       "      <th></th>\n",
       "      <th></th>\n",
       "      <th></th>\n",
       "    </tr>\n",
       "  </thead>\n",
       "  <tbody>\n",
       "    <tr>\n",
       "      <th>1rPABBV</th>\n",
       "      <td>58.01</td>\n",
       "      <td>0</td>\n",
       "      <td>1rPABBV</td>\n",
       "      <td>ABBVIE</td>\n",
       "      <td>2019-02-28 13:32:01.512834</td>\n",
       "    </tr>\n",
       "    <tr>\n",
       "      <th>1rPAC</th>\n",
       "      <td>37.29</td>\n",
       "      <td>405421</td>\n",
       "      <td>1rPAC</td>\n",
       "      <td>ACCOR</td>\n",
       "      <td>2019-02-28 13:32:01.512834</td>\n",
       "    </tr>\n",
       "    <tr>\n",
       "      <th>1rPACNV</th>\n",
       "      <td>46.02</td>\n",
       "      <td>0</td>\n",
       "      <td>1rPACNV</td>\n",
       "      <td>ACCOR</td>\n",
       "      <td>2019-02-28 13:32:01.512834</td>\n",
       "    </tr>\n",
       "    <tr>\n",
       "      <th>1rPADP</th>\n",
       "      <td>171.7</td>\n",
       "      <td>22674</td>\n",
       "      <td>1rPADP</td>\n",
       "      <td>ADP</td>\n",
       "      <td>2019-02-28 13:32:01.512834</td>\n",
       "    </tr>\n",
       "    <tr>\n",
       "      <th>1rPAF</th>\n",
       "      <td>10.86</td>\n",
       "      <td>3512926</td>\n",
       "      <td>1rPAF</td>\n",
       "      <td>AIR FRANCE - KLM</td>\n",
       "      <td>2019-02-28 13:32:01.512834</td>\n",
       "    </tr>\n",
       "  </tbody>\n",
       "</table>\n",
       "</div>"
      ],
      "text/plain": [
       "          last   volume   symbol              name                       date\n",
       "symbol                                                                       \n",
       "1rPABBV  58.01        0  1rPABBV            ABBVIE 2019-02-28 13:32:01.512834\n",
       "1rPAC    37.29   405421    1rPAC             ACCOR 2019-02-28 13:32:01.512834\n",
       "1rPACNV  46.02        0  1rPACNV             ACCOR 2019-02-28 13:32:01.512834\n",
       "1rPADP   171.7    22674   1rPADP               ADP 2019-02-28 13:32:01.512834\n",
       "1rPAF    10.86  3512926    1rPAF  AIR FRANCE - KLM 2019-02-28 13:32:01.512834"
      ]
     },
     "execution_count": 16,
     "metadata": {},
     "output_type": "execute_result"
    }
   ],
   "source": [
    "df.head()"
   ]
  },
  {
   "cell_type": "code",
   "execution_count": 34,
   "metadata": {},
   "outputs": [
    {
     "data": {
      "text/html": [
       "<div>\n",
       "<style scoped>\n",
       "    .dataframe tbody tr th:only-of-type {\n",
       "        vertical-align: middle;\n",
       "    }\n",
       "\n",
       "    .dataframe tbody tr th {\n",
       "        vertical-align: top;\n",
       "    }\n",
       "\n",
       "    .dataframe thead th {\n",
       "        text-align: right;\n",
       "    }\n",
       "</style>\n",
       "<table border=\"1\" class=\"dataframe\">\n",
       "  <thead>\n",
       "    <tr style=\"text-align: right;\">\n",
       "      <th></th>\n",
       "      <th>last</th>\n",
       "      <th>volume</th>\n",
       "      <th>symbol</th>\n",
       "      <th>name</th>\n",
       "      <th>date</th>\n",
       "    </tr>\n",
       "    <tr>\n",
       "      <th>symbol</th>\n",
       "      <th></th>\n",
       "      <th></th>\n",
       "      <th></th>\n",
       "      <th></th>\n",
       "      <th></th>\n",
       "    </tr>\n",
       "  </thead>\n",
       "  <tbody>\n",
       "  </tbody>\n",
       "</table>\n",
       "</div>"
      ],
      "text/plain": [
       "Empty DataFrame\n",
       "Columns: [last, volume, symbol, name, date]\n",
       "Index: []"
      ]
     },
     "execution_count": 34,
     "metadata": {},
     "output_type": "execute_result"
    }
   ],
   "source": [
    "# select the name where it start with bnp\n",
    "df[df[\"name\"].str.startswith(\"Apple\")].head()"
   ]
  },
  {
   "cell_type": "code",
   "execution_count": 36,
   "metadata": {},
   "outputs": [
    {
     "name": "stdout",
     "output_type": "stream",
     "text": [
      "Logs of timescaledb_model go to /tmp/bourse.log\n",
      "Connection attempt failed: connection to server at \"localhost\" (127.0.0.1), port 5432 failed: FATAL:  password authentication failed for user \"jmd\"\n",
      "\n",
      "Connection attempt failed: connection to server at \"localhost\" (127.0.0.1), port 5432 failed: FATAL:  password authentication failed for user \"jmd\"\n",
      "\n",
      "Connection attempt failed: connection to server at \"localhost\" (127.0.0.1), port 5432 failed: FATAL:  password authentication failed for user \"jmd\"\n",
      "\n",
      "Connection attempt failed: connection to server at \"localhost\" (127.0.0.1), port 5432 failed: FATAL:  password authentication failed for user \"jmd\"\n",
      "\n",
      "Connection attempt failed: connection to server at \"localhost\" (127.0.0.1), port 5432 failed: FATAL:  password authentication failed for user \"jmd\"\n",
      "\n"
     ]
    },
    {
     "ename": "Exception",
     "evalue": "Failed to connect to database after multiple attempts",
     "output_type": "error",
     "traceback": [
      "\u001b[0;31m---------------------------------------------------------------------------\u001b[0m",
      "\u001b[0;31mException\u001b[0m                                 Traceback (most recent call last)",
      "Cell \u001b[0;32mIn[36], line 2\u001b[0m\n\u001b[1;32m      1\u001b[0m \u001b[38;5;28;01mfrom\u001b[39;00m \u001b[38;5;21;01mtimescaledb_model\u001b[39;00m \u001b[38;5;28;01mimport\u001b[39;00m \u001b[38;5;241m*\u001b[39m\n\u001b[0;32m----> 2\u001b[0m db \u001b[38;5;241m=\u001b[39m \u001b[43mTimescaleStockMarketModel\u001b[49m\u001b[43m(\u001b[49m\u001b[38;5;124;43m\"\u001b[39;49m\u001b[38;5;124;43mbourse\u001b[39;49m\u001b[38;5;124;43m\"\u001b[39;49m\u001b[43m,\u001b[49m\u001b[43m \u001b[49m\u001b[38;5;124;43m\"\u001b[39;49m\u001b[38;5;124;43mjmd\u001b[39;49m\u001b[38;5;124;43m\"\u001b[39;49m\u001b[43m,\u001b[49m\u001b[43m \u001b[49m\u001b[38;5;124;43m\"\u001b[39;49m\u001b[38;5;124;43mlocalhost\u001b[39;49m\u001b[38;5;124;43m\"\u001b[39;49m\u001b[43m,\u001b[49m\u001b[43m \u001b[49m\u001b[38;5;124;43m\"\u001b[39;49m\u001b[38;5;124;43m123\u001b[39;49m\u001b[38;5;124;43m\"\u001b[39;49m\u001b[43m)\u001b[49m\n",
      "File \u001b[0;32m~/epita/big_data/project/finance/etl/timescaledb_model.py:89\u001b[0m, in \u001b[0;36mTimescaleStockMarketModel.__init__\u001b[0;34m(self, database, user, host, password, port, remove_all)\u001b[0m\n\u001b[1;32m     84\u001b[0m \u001b[38;5;66;03m#print(self.market_id2sws)\u001b[39;00m\n\u001b[1;32m     85\u001b[0m \u001b[38;5;66;03m#self.__nf_cid = {}  # cid from netfonds symbol\u001b[39;00m\n\u001b[1;32m     86\u001b[0m \u001b[38;5;66;03m#self.__boursorama_cid = {} \u001b[39;00m\n\u001b[1;32m     88\u001b[0m \u001b[38;5;28mself\u001b[39m\u001b[38;5;241m.\u001b[39mlogger \u001b[38;5;241m=\u001b[39m mylogging\u001b[38;5;241m.\u001b[39mgetLogger(\u001b[38;5;18m__name__\u001b[39m, filename\u001b[38;5;241m=\u001b[39m\u001b[38;5;124m\"\u001b[39m\u001b[38;5;124m/tmp/bourse.log\u001b[39m\u001b[38;5;124m\"\u001b[39m)\n\u001b[0;32m---> 89\u001b[0m \u001b[38;5;28mself\u001b[39m\u001b[38;5;241m.\u001b[39mconnection \u001b[38;5;241m=\u001b[39m \u001b[38;5;28;43mself\u001b[39;49m\u001b[38;5;241;43m.\u001b[39;49m\u001b[43m_connect_to_database\u001b[49m\u001b[43m(\u001b[49m\u001b[43m)\u001b[49m\n\u001b[1;32m     91\u001b[0m \u001b[38;5;28mself\u001b[39m\u001b[38;5;241m.\u001b[39mlogger\u001b[38;5;241m.\u001b[39minfo(\u001b[38;5;124m\"\u001b[39m\u001b[38;5;124mSetup database generates an error if it exists already, it\u001b[39m\u001b[38;5;124m'\u001b[39m\u001b[38;5;124ms ok\u001b[39m\u001b[38;5;124m\"\u001b[39m)\n\u001b[1;32m     92\u001b[0m \u001b[38;5;28;01mif\u001b[39;00m remove_all:\n",
      "File \u001b[0;32m~/epita/big_data/project/finance/etl/timescaledb_model.py:113\u001b[0m, in \u001b[0;36mTimescaleStockMarketModel._connect_to_database\u001b[0;34m(self, retry_limit, retry_delay)\u001b[0m\n\u001b[1;32m    111\u001b[0m         \u001b[38;5;28mprint\u001b[39m(\u001b[38;5;124mf\u001b[39m\u001b[38;5;124m\"\u001b[39m\u001b[38;5;124mConnection attempt failed: \u001b[39m\u001b[38;5;132;01m{\u001b[39;00me\u001b[38;5;132;01m}\u001b[39;00m\u001b[38;5;124m\"\u001b[39m)\n\u001b[1;32m    112\u001b[0m         time\u001b[38;5;241m.\u001b[39msleep(retry_delay)\n\u001b[0;32m--> 113\u001b[0m \u001b[38;5;28;01mraise\u001b[39;00m \u001b[38;5;167;01mException\u001b[39;00m(\u001b[38;5;124m\"\u001b[39m\u001b[38;5;124mFailed to connect to database after multiple attempts\u001b[39m\u001b[38;5;124m\"\u001b[39m)\n",
      "\u001b[0;31mException\u001b[0m: Failed to connect to database after multiple attempts"
     ]
    }
   ],
   "source": [
    "from timescaledb_model import *\n",
    "db = TimescaleStockMarketModel(\"bourse\", \"jmd\", \"localhost\", \"123\")\n"
   ]
  },
  {
   "cell_type": "code",
   "execution_count": null,
   "metadata": {},
   "outputs": [],
   "source": [
    "# create a new df\n",
    "df_markets = pd.DataFrame()\n",
    "# TODO\n",
    "# df_markets['name'] = [\"Boursorama\", \"\"]\n",
    "# df_markets['alias']\n",
    "# df_markets['boursorama']\n",
    "# df_markets['sws']\n",
    "# df_markets['euronext']\n",
    "\n",
    "# db.write(df_markets, \"markets\")"
   ]
  },
  {
   "cell_type": "code",
   "execution_count": 35,
   "metadata": {},
   "outputs": [
    {
     "ename": "NameError",
     "evalue": "name 'db' is not defined",
     "output_type": "error",
     "traceback": [
      "\u001b[0;31m---------------------------------------------------------------------------\u001b[0m",
      "\u001b[0;31mNameError\u001b[0m                                 Traceback (most recent call last)",
      "Cell \u001b[0;32mIn[35], line 14\u001b[0m\n\u001b[1;32m     11\u001b[0m df_companies[\u001b[38;5;124m\"\u001b[39m\u001b[38;5;124msector2\u001b[39m\u001b[38;5;124m\"\u001b[39m] \u001b[38;5;241m=\u001b[39m np\u001b[38;5;241m.\u001b[39mnan \u001b[38;5;66;03m# TODO\u001b[39;00m\n\u001b[1;32m     12\u001b[0m df_companies[\u001b[38;5;124m\"\u001b[39m\u001b[38;5;124msector3\u001b[39m\u001b[38;5;124m\"\u001b[39m] \u001b[38;5;241m=\u001b[39m np\u001b[38;5;241m.\u001b[39mnan \u001b[38;5;66;03m# TODO\u001b[39;00m\n\u001b[0;32m---> 14\u001b[0m \u001b[43mdb\u001b[49m\u001b[38;5;241m.\u001b[39mdf_write(df_companies, \u001b[38;5;124m\"\u001b[39m\u001b[38;5;124mcompanies\u001b[39m\u001b[38;5;124m\"\u001b[39m)\n",
      "\u001b[0;31mNameError\u001b[0m: name 'db' is not defined"
     ]
    }
   ],
   "source": [
    "df_companies = df.copy()\n",
    "# fill with nan\n",
    "df_companies[\"isin\"] = np.nan\n",
    "df_companies[\"boursorama\"] = df_companies[\"symbol\"]\n",
    "df[\"symbol\"].apply(lambda x: x[3: len(x)])\n",
    "df_companies[\"mid\"] = np.nan # TODO\n",
    "df_companies[\"euronext\"] = np.nan # TODO\n",
    "df_companies[\"pea\"] = np.nan # TODO\n",
    "\n",
    "df_companies[\"sector1\"] = np.nan # TODO\n",
    "df_companies[\"sector2\"] = np.nan # TODO\n",
    "df_companies[\"sector3\"] = np.nan # TODO\n",
    "\n",
    "db.df_write(df_companies, \"companies\")"
   ]
  },
  {
   "cell_type": "code",
   "execution_count": null,
   "metadata": {},
   "outputs": [],
   "source": [
    "\n",
    "\n"
   ]
  }
 ],
 "metadata": {
  "kernelspec": {
   "display_name": "Python 3",
   "language": "python",
   "name": "python3"
  },
  "language_info": {
   "codemirror_mode": {
    "name": "ipython",
    "version": 3
   },
   "file_extension": ".py",
   "mimetype": "text/x-python",
   "name": "python",
   "nbconvert_exporter": "python",
   "pygments_lexer": "ipython3",
   "version": "3.10.12"
  }
 },
 "nbformat": 4,
 "nbformat_minor": 2
}
